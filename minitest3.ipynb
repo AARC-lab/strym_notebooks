{
 "cells": [
  {
   "cell_type": "markdown",
   "metadata": {},
   "source": [
    "# MINITEST 3\n",
    "## 3 vehicles in a row\n",
    "\n",
    "Test setup: Honda(Civic) followed by Toyota (RAV4) followed by Honda (Pilot).\n",
    "Note: The Toyota csv file have timestamps that are delayed by an hour due to internet issue in the pi.\n"
   ]
  },
  {
   "cell_type": "code",
   "execution_count": null,
   "metadata": {
    "scrolled": true
   },
   "outputs": [],
   "source": [
    "import cantools\n",
    "import csv\n",
    "from strym import strymread\n",
    "import strym\n",
    "from pprint import pprint\n",
    "import matplotlib.pyplot as plt\n",
    "import numpy as np\n",
    "import matplotlib.ticker as ticker\n",
    "import pandas as pd\n",
    "from strym import strymmap\n",
    "import plotly as py\n",
    "from plotly.subplots import make_subplots\n",
    "import plotly.graph_objects as go\n",
    "\n",
    "py.offline.init_notebook_mode(connected=True)\n",
    "\n",
    "toyota_dbcfile='/home/safwan/Documents/strym/strym/dbc/toyota_rav4_2019.dbc'\n",
    "honda_dbcfile='/home/safwan/Documents/strym/strym/dbc/honda_pilot_2017.dbc'\n",
    "folder = '/home/safwan/Documents/sfwithVM/cyverse/minitest3/2020_10_13/'"
   ]
  },
  {
   "cell_type": "markdown",
   "metadata": {},
   "source": [
    "### Setting files paths "
   ]
  },
  {
   "cell_type": "code",
   "execution_count": null,
   "metadata": {},
   "outputs": [],
   "source": [
    "honda_can=folder + '2020-10-13-12-18-59_5FNYF6H05HB089022_CAN_Messages.csv'\n",
    "honda_gps= folder + '2020-10-13-12-18-59_5FNYF6H05HB089022_GPS_Messages.csv'\n",
    "\n",
    "toyota_can=folder + '2020-10-13-13-19-13_2T3MWRFVXLW056972_CAN_Messages.csv'\n",
    "toyota_gps= folder + '2020-10-13-13-19-13_2T3MWRFVXLW056972_GPS_Messages.csv'\n",
    "\n",
    "CANcoach_can= folder + '2020-10-13-13-20-53-ID2.csv'"
   ]
  },
  {
   "cell_type": "markdown",
   "metadata": {},
   "source": [
    "### Read the CSV file using `strymread`"
   ]
  },
  {
   "cell_type": "code",
   "execution_count": null,
   "metadata": {},
   "outputs": [],
   "source": [
    "r_toyota = strymread(csvfile=CANcoach_can, dbcfile=toyota_dbcfile)\n",
    "r_honda = strymread(csvfile=honda_can, dbcfile=honda_dbcfile)"
   ]
  },
  {
   "cell_type": "markdown",
   "metadata": {},
   "source": [
    "### Plotting the map of the drive using `strymmap`\n",
    "\n",
    "To be able to generate a map of a dirve please follow the instruction in https://jmscslgroup.github.io/strym/Strymmap_Example.html#Using-Google-Map"
   ]
  },
  {
   "cell_type": "code",
   "execution_count": null,
   "metadata": {},
   "outputs": [],
   "source": [
    "api_key = input(\"Enter API Key: \")"
   ]
  },
  {
   "cell_type": "code",
   "execution_count": null,
   "metadata": {},
   "outputs": [],
   "source": [
    "!echo \"export MAP_BOX_API={api_key}\" >> ~/.env"
   ]
  },
  {
   "cell_type": "code",
   "execution_count": null,
   "metadata": {},
   "outputs": [],
   "source": [
    "strym.config[\"mapheight\"] = 700\n",
    "strym.config[\"mapwidth\"] = 1250\n",
    "strym.config[\"mapzoom\"] = 12.20"
   ]
  },
  {
   "cell_type": "code",
   "execution_count": null,
   "metadata": {
    "scrolled": true
   },
   "outputs": [],
   "source": [
    "# g_toyota = strymmap(toyota_gps)\n",
    "g_honda = strymmap(honda_gps)"
   ]
  },
  {
   "cell_type": "code",
   "execution_count": null,
   "metadata": {},
   "outputs": [],
   "source": [
    "fig = g_honda.plotroute(interactive=True)"
   ]
  },
  {
   "cell_type": "markdown",
   "metadata": {},
   "source": [
    "### Speed messages: "
   ]
  },
  {
   "cell_type": "code",
   "execution_count": null,
   "metadata": {},
   "outputs": [],
   "source": [
    "pd.set_option('display.float_format', lambda x: '%.6f' % x)\n",
    "strym.config['interactive']=True\n",
    "toyota_speed = r_toyota.get_ts(180,'SPEED') #  Tue Oct 13 11:20:54 AM MST 2020\n",
    "toyota_speed['Time'] = toyota_speed['Time'] + 3600.0 ## adding ab hour to match the Honda timestamps\n",
    "toyota_speed['Message'] = toyota_speed['Message'] * 0.277778 # change to m/s\n",
    "\n",
    "honda_speed = r_honda.get_ts(msg = \"WHEEL_SPEEDS\", signal=\"WHEEL_SPEED_FL\") #  Tue Oct 13 01:26:53 PM MST 2020\\n\",\n",
    "honda_speed=honda_speed [(honda_speed.Time >= 1602613254.839061 ) & (honda_speed.Time <= 1602620286.803147)] # trimming off the beginning so both files start at the same time\\n\",\n",
    "honda_speed['Message'] = honda_speed['Message'] * 0.277778 # change to m/s\\n\",\n",
    "\n",
    "fig1 = make_subplots(rows=2, cols=1)\n",
    "\n",
    "fig1.append_trace(go.Scatter(x=toyota_speed.Time, y=toyota_speed.Message,\n",
    "                    mode='lines',\n",
    "                    name=\"RAV4 speed\",\n",
    "                    marker_color=\"fuchsia\",\n",
    "                          marker=dict(\n",
    "                            size=2,\n",
    "                          )\n",
    "    ), row=1, col=1)\n",
    "\n",
    "\n",
    "fig1.append_trace(go.Scatter(x=honda_speed.Time, y=honda_speed.Message,\n",
    "                    mode='lines',\n",
    "                    name=\"Pilot speed\",\n",
    "                    marker_color=\"mediumblue\",\n",
    "                          marker=dict(\n",
    "                            size=2,\n",
    "                          )\n",
    "    ), row=2, col=1)\n",
    "\n",
    "                    \n",
    "fig1.update_layout(\n",
    "    title=\"Speed msg\",\n",
    "    xaxis_title=\"Time\",\n",
    "    yaxis_title=\"[m/s]\",\n",
    "    legend_title=\"Legend Title\",\n",
    ")\n",
    "fig1.show()\n",
    "# py.offline.iplot(fig1)\n",
    "# toyota_speed[toyota_speed.Bus==0]"
   ]
  },
  {
   "cell_type": "code",
   "execution_count": null,
   "metadata": {},
   "outputs": [],
   "source": [
    "fig2 = go.Figure()\n",
    "fig2.add_trace(go.Scatter(x=toyota_speed.Time, y=toyota_speed.Message,\n",
    "                    mode='lines',\n",
    "                    name='Toyota'))\n",
    "fig2.add_trace(go.Scatter(x=honda_speed.Time, y=honda_speed.Message,\n",
    "                    mode='lines',\n",
    "                    name='Honda'))\n",
    "fig2.update_layout(\n",
    "    title=\"Speed msg\",\n",
    "    xaxis_title=\"Time\",\n",
    "    yaxis_title=\"m/s\",\n",
    "    legend_title=\"Legend Title\",\n",
    ")\n",
    "fig2.show()"
   ]
  },
  {
   "cell_type": "markdown",
   "metadata": {},
   "source": [
    "### Lead distance from RAV4's lead message and radar traces"
   ]
  },
  {
   "cell_type": "markdown",
   "metadata": {},
   "source": [
    "Directly from the lead message:"
   ]
  },
  {
   "cell_type": "code",
   "execution_count": null,
   "metadata": {},
   "outputs": [],
   "source": [
    "lead_dist = r_toyota.get_ts(869,'LEAD_DISTANCE')\n",
    "lead_dist['Time'] = lead_dist['Time'] + 3600.0 ## adding an hour to match the Honda timestamps\n",
    "lead_dist=lead_dist[(lead_dist.Message < 252)]\n",
    "fig3 = go.Figure()\n",
    "fig3.add_trace(go.Scatter(x=lead_dist.Time, y=lead_dist.Message,\n",
    "                    mode='markers+text',\n",
    "                    name='Honda',\n",
    "                    marker=dict(\n",
    "                            size=2,\n",
    "                          )\n",
    "    ))\n",
    "# fig1.add_trace(go.Scatter(x=toyota_speed.Time, y=toyota_speed.Message,\n",
    "#                     mode='lines',\n",
    "#                     name='Toyota'))\n",
    "fig3.update_layout(\n",
    "    title=\"RAV4 Lead distance\",\n",
    "    xaxis_title=\"Time\",\n",
    "    yaxis_title=\"meters\",\n",
    "    legend_title=\"Legend Title\",\n",
    ")\n",
    "fig3.show()"
   ]
  },
  {
   "cell_type": "markdown",
   "metadata": {},
   "source": [
    "We can also get lead distance from the radar traces. However, the results still require further filtering to get clean data."
   ]
  },
  {
   "cell_type": "code",
   "execution_count": null,
   "metadata": {},
   "outputs": [],
   "source": [
    "toyota_long_dist = r_toyota.long_dist(np.arange(0, 16))\n",
    "toyota_lat_dist = r_toyota.lat_dist(np.arange(0, 16))\n",
    "toyota_rel = r_toyota.rel_velocity(np.arange(0, 16))"
   ]
  },
  {
   "cell_type": "code",
   "execution_count": null,
   "metadata": {},
   "outputs": [],
   "source": [
    "# Concatenate long, lat and relative vel of all tracks to a single dataframe\n",
    "toyota_long_dist = pd.concat(toyota_long_dist)\n",
    "toyota_lat_dist = pd.concat(toyota_lat_dist)\n",
    "toyota_rel = pd.concat(toyota_rel)"
   ]
  },
  {
   "cell_type": "code",
   "execution_count": null,
   "metadata": {},
   "outputs": [],
   "source": [
    "toyota_long_dist['Time']=toyota_long_dist['Time'] +3600.0\n",
    "toyota_long_dist=toyota_long_dist.sort_values(\"Time\")"
   ]
  },
  {
   "cell_type": "code",
   "execution_count": null,
   "metadata": {},
   "outputs": [],
   "source": [
    "toyota_long_dist['Long'] = toyota_long_dist['Message']\n",
    "toyota_long_dist['Lat'] = toyota_lat_dist['Message']\n",
    "toyota_long_dist['Relvel'] = toyota_rel['Message']\n",
    "toyota_long_dist.drop(columns=['Message'], inplace=True)\n",
    "\n",
    "toyota_lead_state = toyota_long_dist\n",
    "toyota_lead_state"
   ]
  },
  {
   "cell_type": "markdown",
   "metadata": {},
   "source": [
    "Filter out the toyota_lead_state so that it only contains tracks found by RADAR directly in front of the Toyota. For that we hypothesize that anything with lateral distance less than equal ± 0.5 is seen as a car driving in front of the Toyota"
   ]
  },
  {
   "cell_type": "code",
   "execution_count": null,
   "metadata": {},
   "outputs": [],
   "source": [
    "toyota_lead_state = toyota_lead_state[np.abs(toyota_lead_state['Lat']) <= 0.5]\n",
    "toyota_lead_state"
   ]
  },
  {
   "cell_type": "markdown",
   "metadata": {},
   "source": [
    "Overlaid plots: lead distance and radar traces"
   ]
  },
  {
   "cell_type": "code",
   "execution_count": null,
   "metadata": {},
   "outputs": [],
   "source": [
    "toyota_lead_state = toyota_lead_state[np.abs(toyota_lead_state['Long']) < 252]\n",
    "\n",
    "fig4 = go.Figure()\n",
    "fig4.add_trace(go.Scattergl(x=toyota_lead_state.Time, y=toyota_lead_state.Long,\n",
    "                    mode='markers',\n",
    "                    name='RAV4 lead dist from radar traces',\n",
    "#                     marker_color=\"MAGENTA\",\n",
    "                          marker=dict(\n",
    "                            size=3,\n",
    "                          )\n",
    "                           ))\n",
    "fig4.add_trace(go.Scattergl(x=lead_dist.Time, y=lead_dist.Message,\n",
    "                    mode='markers',\n",
    "                    name='RAV4 lead dist from lead msg',\n",
    "#                            marker_color=\"OLIVE\",\n",
    "                          marker=dict(\n",
    "                            size=3,\n",
    "                          )\n",
    "    ))                           \n",
    "                                                   \n",
    "\n",
    "fig4.update_layout(\n",
    "    title=\"RAV4 lead dist from the radar and lead msg\",\n",
    "    xaxis_title=\"Time\",\n",
    "    yaxis_title=\"m\",\n",
    "    legend_title=\"Legend Title\",\n",
    ")\n",
    "\n",
    "fig4.show()\n",
    "\n",
    "\n",
    "\n"
   ]
  },
  {
   "cell_type": "markdown",
   "metadata": {},
   "source": [
    "From the above plot, we can see that futher filtering of the radar traces would gives a similar readings to the lead distance message."
   ]
  },
  {
   "cell_type": "markdown",
   "metadata": {},
   "source": [
    "Now, Resampling RAV4's speed data, and relative velocity data obtained from radar trace so that we can estimate speed of the lead vehicle (Honda Civic) in front of RAV4 by adding these two timeseries"
   ]
  },
  {
   "cell_type": "code",
   "execution_count": null,
   "metadata": {},
   "outputs": [],
   "source": [
    "lead_rel = pd.DataFrame()\n",
    "lead_rel['Time'] = toyota_lead_state['Time']\n",
    "lead_rel=lead_rel [(lead_rel.Time >= 1602613254.839061 ) & (lead_rel.Time <= 1602620286.803147)] \n",
    "lead_rel['Message'] = toyota_lead_state['Relvel']\n",
    "\n",
    "fig7 = go.Figure()\n",
    "fig7.add_trace(\n",
    "    go.Scattergl(\n",
    "        x =lead_rel.Time,\n",
    "        y = lead_rel.Message,\n",
    "        mode = 'markers',\n",
    "        marker_color= '#8b008b',\n",
    "                          marker=dict(\n",
    "                            size=2,\n",
    "                          )\n",
    "    )\n",
    ")\n",
    "\n",
    "fig7.update_layout(\n",
    "    title=\"Relative speed of Honda Civic\",\n",
    "    xaxis_title=\"Time\",\n",
    "    yaxis_title=\"[m/s]\",\n",
    "    legend_title=\"Legend Title\",\n",
    ")\n",
    "fig7.show()"
   ]
  },
  {
   "cell_type": "code",
   "execution_count": null,
   "metadata": {},
   "outputs": [],
   "source": [
    "toyota_speed_resampled, rel_resampled = strymread.ts_sync(toyota_speed, lead_rel, rate=\"second\")"
   ]
  },
  {
   "cell_type": "code",
   "execution_count": null,
   "metadata": {},
   "outputs": [],
   "source": [
    "lead_reoncstructed = pd.DataFrame()\n",
    "lead_reoncstructed['Time'] = toyota_speed_resampled['Time']\n",
    "lead_reoncstructed['Message'] = toyota_speed_resampled['Message'] - rel_resampled['Message']"
   ]
  },
  {
   "cell_type": "code",
   "execution_count": null,
   "metadata": {},
   "outputs": [],
   "source": [
    "fig5 = go.Figure()\n",
    "fig5.add_trace(\n",
    "    go.Scattergl(\n",
    "        x =lead_reoncstructed.Time,\n",
    "        y = lead_reoncstructed.Message,\n",
    "        mode = 'markers',\n",
    "                          marker=dict(\n",
    "                            size=2,\n",
    "                          )\n",
    "    )\n",
    ")\n",
    "\n",
    "fig5.update_layout(\n",
    "    title=\"Reconstructed Honda civic speed\",\n",
    "    xaxis_title=\"Time\",\n",
    "    yaxis_title=\"[m/s]\",\n",
    "    legend_title=\"Legend Title\",\n",
    ")\n",
    "\n",
    "fig5.show()"
   ]
  },
  {
   "cell_type": "markdown",
   "metadata": {},
   "source": [
    "Relatvie velocity of the Rav4 when Honda is the follower"
   ]
  },
  {
   "cell_type": "code",
   "execution_count": null,
   "metadata": {},
   "outputs": [],
   "source": [
    "toyota_speed_resampled, honda_speed_resampled = strymread.ts_sync(toyota_speed, honda_speed, rate=\"second\")"
   ]
  },
  {
   "cell_type": "code",
   "execution_count": null,
   "metadata": {},
   "outputs": [],
   "source": [
    "relv_toyota = pd.DataFrame()\n",
    "relv_toyota['Time'] = toyota_speed_resampled['Time']\n",
    "relv_toyota['Message'] = toyota_speed_resampled['Message'] - honda_speed_resampled['Message']\n",
    "print(honda_speed_resampled)\n",
    "print(toyota_speed_resampled)"
   ]
  },
  {
   "cell_type": "code",
   "execution_count": null,
   "metadata": {},
   "outputs": [],
   "source": [
    "fig6 = go.Figure()\n",
    "fig6.add_trace(\n",
    "    go.Scattergl(\n",
    "        x =relv_toyota.Time,\n",
    "        y = relv_toyota.Message,\n",
    "        mode = 'markers',\n",
    "        marker_color= '#8b008b',\n",
    "                          marker=dict(\n",
    "                            size=2,\n",
    "                          )\n",
    "    )\n",
    ")\n",
    "\n",
    "fig6.update_layout(\n",
    "    title=\"Relavtive speed of the lead (toyota)\",\n",
    "    xaxis_title=\"Time\",\n",
    "    yaxis_title=\"[m/s]\",\n",
    "    legend_title=\"Legend Title\",\n",
    ")\n",
    "\n",
    "fig6.show()"
   ]
  },
  {
   "cell_type": "code",
   "execution_count": null,
   "metadata": {},
   "outputs": [],
   "source": []
  }
 ],
 "metadata": {
  "kernelspec": {
   "display_name": "Python 3",
   "language": "python",
   "name": "python3"
  },
  "language_info": {
   "codemirror_mode": {
    "name": "ipython",
    "version": 3
   },
   "file_extension": ".py",
   "mimetype": "text/x-python",
   "name": "python",
   "nbconvert_exporter": "python",
   "pygments_lexer": "ipython3",
   "version": "3.8.6"
  }
 },
 "nbformat": 4,
 "nbformat_minor": 4
}
