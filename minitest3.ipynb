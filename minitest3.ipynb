{
 "cells": [
  {
   "cell_type": "markdown",
   "metadata": {},
   "source": [
    "# MINITEST 3\n",
    "## 3 vehicles in a row\n",
    "\n",
    "Test setup: Honda(Civic) followed by Toyota (RAV4) followed by Honda (Pilot).\n",
    "Note: The Toyota csv file have timestamps that are delayed by an hour due to internet issue in the pi.\n"
   ]
  },
  {
   "cell_type": "code",
   "execution_count": 43,
   "metadata": {
    "scrolled": true
   },
   "outputs": [],
   "source": [
    "import cantools\n",
    "import csv\n",
    "from strym import strymread\n",
    "import strym\n",
    "from pprint import pprint\n",
    "import matplotlib.pyplot as plt\n",
    "import numpy as np\n",
    "import matplotlib.ticker as ticker\n",
    "import pandas as pd\n",
    "from strym import strymmap\n",
    "from IPython.display import Video\n",
    "import plotly.express as px\n",
    "import plotly.graph_objects as go\n",
    "toyota_dbcfile='/home/safwan/Documents/strym/strym/dbc/toyota_rav4_2019.dbc'\n",
    "honda_dbcfile='/home/safwan/Documents/strym/strym/dbc/honda_pilot_2017.dbc'\n",
    "folder = '/home/safwan/Documents/sfwithVM/cyverse/minitest3/2020_10_13/'"
   ]
  },
  {
   "cell_type": "markdown",
   "metadata": {},
   "source": [
    "### Setting files paths "
   ]
  },
  {
   "cell_type": "code",
   "execution_count": 44,
   "metadata": {},
   "outputs": [],
   "source": [
    "honda_can=folder + '2020-10-13-12-18-59_5FNYF6H05HB089022_CAN_Messages.csv'\n",
    "honda_gps= folder + '2020-10-13-12-18-59_5FNYF6H05HB089022_GPS_Messages.csv'\n",
    "\n",
    "toyota_can=folder + '2020-10-13-13-19-13_2T3MWRFVXLW056972_CAN_Messages.csv'\n",
    "toyota_gps= folder + '2020-10-13-13-19-13_2T3MWRFVXLW056972_GPS_Messages.csv'\n",
    "\n",
    "CANcoach_can= folder + '2020-10-13-13-20-53-ID2.csv'"
   ]
  },
  {
   "cell_type": "markdown",
   "metadata": {},
   "source": [
    "### Read the CSV file using `strymread`"
   ]
  },
  {
   "cell_type": "code",
   "execution_count": null,
   "metadata": {},
   "outputs": [],
   "source": [
    "r_toyota = strymread(csvfile=CANcoach_can, dbcfile=toyota_dbcfile)\n",
    "r_honda = strymread(csvfile=honda_can, dbcfile=honda_dbcfile)"
   ]
  },
  {
   "cell_type": "markdown",
   "metadata": {},
   "source": [
    "### Plotting the map of the drive using `strymmap`\n",
    "\n",
    "To be able to generate a map of a dirve please follow the instruction in https://jmscslgroup.github.io/strym/Strymmap_Example.html#Using-Google-Map"
   ]
  },
  {
   "cell_type": "code",
   "execution_count": null,
   "metadata": {},
   "outputs": [],
   "source": [
    "api_key = input(\"Enter API Key: \")"
   ]
  },
  {
   "cell_type": "code",
   "execution_count": null,
   "metadata": {},
   "outputs": [],
   "source": [
    "!echo \"export MAP_BOX_API={api_key}\" >> ~/.env"
   ]
  },
  {
   "cell_type": "code",
   "execution_count": null,
   "metadata": {},
   "outputs": [],
   "source": [
    "strym.config[\"mapheight\"] = 700\n",
    "strym.config[\"mapwidth\"] = 1250\n",
    "strym.config[\"mapzoom\"] = 12.20"
   ]
  },
  {
   "cell_type": "code",
   "execution_count": null,
   "metadata": {
    "scrolled": true
   },
   "outputs": [],
   "source": [
    "# g_toyota = strymmap(toyota_gps)\n",
    "g_honda = strymmap(honda_gps)"
   ]
  },
  {
   "cell_type": "code",
   "execution_count": null,
   "metadata": {},
   "outputs": [],
   "source": [
    "fig = g_honda.plotroute(interactive=True)"
   ]
  },
  {
   "cell_type": "markdown",
   "metadata": {},
   "source": [
    "### Speed messages: "
   ]
  },
  {
   "cell_type": "code",
   "execution_count": null,
   "metadata": {},
   "outputs": [],
   "source": [
    "pd.set_option('display.float_format', lambda x: '%.6f' % x)\n",
    "strym.config['interactive']=True\n",
    "toyota_speed = r_toyota.get_ts(180,'SPEED') #  Tue Oct 13 11:20:54 AM MST 2020\n",
    "toyota_speed['Time'] = toyota_speed['Time'] + 3600.0 ## adding ab hour to match the Honda timestamps\n",
    "toyota_speed['Message'] = toyota_speed['Message'] * 0.277778 # change to m/s\n",
    "strymread.plt_ts(toyota_speed, title= 'RAV4 speed msg')\n",
    "\n",
    "honda_speed = r_honda.get_ts(msg = \"WHEEL_SPEEDS\", signal=\"WHEEL_SPEED_FL\") #  Tue Oct 13 01:26:53 PM MST 2020\n",
    "honda_speed=honda_speed [(honda_speed.Time >= 1602613254.839061 ) & (honda_speed.Time <= 1602620286.803147)] # trimming off the beginning so both files start at the same time\n",
    "honda_speed['Message'] = honda_speed['Message'] * 0.277778 # change to m/s\n",
    "strymread.plt_ts(honda_speed, title= 'Pilot Speed msg ')"
   ]
  },
  {
   "cell_type": "code",
   "execution_count": null,
   "metadata": {},
   "outputs": [],
   "source": [
    "fig = go.Figure()\n",
    "fig.add_trace(go.Scatter(x=toyota_speed.Time, y=toyota_speed.Message,\n",
    "                    mode='lines',\n",
    "                    name='Toyota'))\n",
    "fig.add_trace(go.Scatter(x=honda_speed.Time, y=honda_speed.Message,\n",
    "                    mode='lines',\n",
    "                    name='Honda'))\n",
    "fig.update_layout(\n",
    "    title=\"Speed\",\n",
    "    xaxis_title=\"Time\",\n",
    "    yaxis_title=\"m/s\",\n",
    "    legend_title=\"Legend Title\",\n",
    ")\n",
    "fig.show()"
   ]
  },
  {
   "cell_type": "markdown",
   "metadata": {},
   "source": [
    "### Lead distance from RAV4's lead message and radar traces"
   ]
  },
  {
   "cell_type": "markdown",
   "metadata": {},
   "source": [
    "Directly from the lead message:"
   ]
  },
  {
   "cell_type": "code",
   "execution_count": null,
   "metadata": {},
   "outputs": [],
   "source": [
    "lead_dist = r_toyota.get_ts(869,'LEAD_DISTANCE')\n",
    "lead_dist=lead_dist[(lead_dist.Message < 252)]\n",
    "fig1 = go.Figure()\n",
    "fig1.add_trace(go.Scatter(x=lead_dist.Time, y=lead_dist.Message,\n",
    "                    mode='markers',\n",
    "                    name='Honda',\n",
    "    ))\n",
    "# fig1.add_trace(go.Scatter(x=toyota_speed.Time, y=toyota_speed.Message,\n",
    "#                     mode='lines',\n",
    "#                     name='Toyota'))\n",
    "fig1.update_layout(\n",
    "    title=\"RAV4 Lead distance\",\n",
    "    xaxis_title=\"Time\",\n",
    "    yaxis_title=\"m\",\n",
    "    legend_title=\"Legend Title\",\n",
    ")\n",
    "fig1.show()"
   ]
  },
  {
   "cell_type": "markdown",
   "metadata": {},
   "source": [
    "We can also get lead distance from the radar traces. However, the results still require further filtering to get clean data."
   ]
  },
  {
   "cell_type": "code",
   "execution_count": null,
   "metadata": {},
   "outputs": [],
   "source": [
    "toyota_long_dist = r_toyota.long_dist(np.arange(0, 16))\n",
    "toyota_lat_dist = r_toyota.lat_dist(np.arange(0, 16))\n",
    "toyota_rel = r_toyota.rel_velocity(np.arange(0, 16))\n",
    "\n",
    "# Concatenate long, lat and relative vel of all tracks to a single dataframe\n",
    "toyota_long_dist = pd.concat(toyota_long_dist)\n",
    "toyota_lat_dist = pd.concat(toyota_lat_dist)\n",
    "toyota_rel = pd.concat(toyota_rel)\n",
    "\n",
    "toyota_long_dist['Long'] = toyota_long_dist['Message']\n",
    "toyota_long_dist['Lat'] = toyota_lat_dist['Message']\n",
    "toyota_long_dist['Relvel'] = toyota_rel['Message']\n",
    "toyota_long_dist.drop(columns=['Message'], inplace=True)\n",
    "\n",
    "toyota_lead_state = toyota_long_dist\n",
    "toyota_lead_state"
   ]
  },
  {
   "cell_type": "markdown",
   "metadata": {},
   "source": [
    "Filter out the toyota_lead_state so that it only contains tracks found by RADAR directly in front of the Toyota. For that we hypothesize that anything with lateral distance less than equal ± 0.5 is seen as a car driving in front of the Toyota"
   ]
  },
  {
   "cell_type": "code",
   "execution_count": null,
   "metadata": {},
   "outputs": [],
   "source": [
    "toyota_lead_state = toyota_lead_state[np.abs(toyota_lead_state['Lat']) <= 0.5]\n",
    "toyota_lead_state"
   ]
  },
  {
   "cell_type": "markdown",
   "metadata": {},
   "source": [
    "Overlaid plots: lead distance and radar traces"
   ]
  },
  {
   "cell_type": "code",
   "execution_count": null,
   "metadata": {},
   "outputs": [],
   "source": [
    "toyota_lead_state = toyota_lead_state[np.abs(toyota_lead_state['Long']) < 252]\n",
    "\n",
    "fig2 = go.Figure()\n",
    "fig2.add_trace(go.Scatter(x=toyota_lead_state.Time, y=toyota_lead_state.Long,\n",
    "                    mode='markers',\n",
    "                    name='RAV4 radar traces',\n",
    "                    marker_color=\"MAGENTA\",\n",
    "#                           marker=dict(\n",
    "#                             size=4,\n",
    "#                           )\n",
    "    ))\n",
    "fig2.add_trace(go.Scatter(x=lead_dist.Time, y=lead_dist.Message,\n",
    "                    mode='markers',\n",
    "                    name='RAV4 lead dist',\n",
    "                           marker_color=\"OLIVE\",\n",
    "#                           marker=dict(\n",
    "#                             size=4,\n",
    "#                           )\n",
    "    ))                    \n",
    "fig2.update_layout(\n",
    "    title=\"RAV4 radar and lead\",\n",
    "    xaxis_title=\"Time\",\n",
    "    yaxis_title=\"m\",\n",
    "    legend_title=\"Legend Title\",\n",
    ")\n",
    "fig2.show()\n",
    "toyota_lead_state"
   ]
  },
  {
   "cell_type": "markdown",
   "metadata": {},
   "source": [
    "From the above plot, we can see that futher filtering of the radar traces would gives a similar readings to the lead distance message."
   ]
  },
  {
   "cell_type": "markdown",
   "metadata": {},
   "source": [
    "Now, Resampling RAV4's speed data, and relative velocity data obtained from radar trace so that we can estimate speed of the lead vehicle (Honda Civic) in front of RAV4 by adding these two timeseries"
   ]
  },
  {
   "cell_type": "code",
   "execution_count": null,
   "metadata": {},
   "outputs": [],
   "source": [
    "lead_rel = pd.DataFrame()\n",
    "lead_rel['Time'] = toyota_lead_state_l['Time']\n",
    "lead_rel['Message'] = toyota_lead_state_l['Relvel']"
   ]
  },
  {
   "cell_type": "code",
   "execution_count": null,
   "metadata": {},
   "outputs": [],
   "source": [
    "\n",
    "fig3 = go.Figure()\n",
    "fig3.add_trace(go.Scatter(x=lead_rel.Time, y=lead_rel.Message,\n",
    "                    mode='markers',\n",
    "                    name='RAV4 Relative velocity',\n",
    "                    marker_color=\"MAGENTA\",\n",
    "                          marker=dict(\n",
    "                            size=2,\n",
    "                          )\n",
    "    ))\n",
    "                    \n",
    "fig3.update_layout(\n",
    "    title=\"RAV4 relative velocity when Honda civic is leading\",\n",
    "    xaxis_title=\"Time\",\n",
    "    yaxis_title=\"m/s\",\n",
    "    legend_title=\"Legend Title\",\n",
    ")\n",
    "fig3.show()"
   ]
  },
  {
   "cell_type": "code",
   "execution_count": null,
   "metadata": {},
   "outputs": [],
   "source": []
  },
  {
   "cell_type": "code",
   "execution_count": null,
   "metadata": {},
   "outputs": [],
   "source": []
  },
  {
   "cell_type": "code",
   "execution_count": null,
   "metadata": {},
   "outputs": [],
   "source": []
  }
 ],
 "metadata": {
  "kernelspec": {
   "display_name": "Python 3",
   "language": "python",
   "name": "python3"
  },
  "language_info": {
   "codemirror_mode": {
    "name": "ipython",
    "version": 3
   },
   "file_extension": ".py",
   "mimetype": "text/x-python",
   "name": "python",
   "nbconvert_exporter": "python",
   "pygments_lexer": "ipython3",
   "version": "3.8.6"
  }
 },
 "nbformat": 4,
 "nbformat_minor": 4
}
