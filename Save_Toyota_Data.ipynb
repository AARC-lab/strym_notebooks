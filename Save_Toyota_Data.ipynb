{
 "cells": [
  {
   "cell_type": "markdown",
   "metadata": {},
   "source": [
    "# Saving Toyota Data after Uniform Sampling"
   ]
  },
  {
   "cell_type": "code",
   "execution_count": null,
   "metadata": {},
   "outputs": [],
   "source": [
    "import strym\n",
    "from strym import strymread\n",
    "import matplotlib.pyplot as plt\n",
    "import pandas as pd\n",
    "import numpy as np\n",
    "import glob\n",
    "import os\n",
    "import ntpath"
   ]
  },
  {
   "cell_type": "code",
   "execution_count": null,
   "metadata": {},
   "outputs": [],
   "source": [
    "parentfolder = \"../../JmscslgroupData/PandaData/\"\n",
    "csvlist = []\n",
    "folderlist = glob.glob(parentfolder+\"*\")\n",
    "csvlist = []\n",
    "for datafolder in folderlist:\n",
    "    csvlisttmp = glob.glob(datafolder+\"/*.csv\")\n",
    "    for f in csvlisttmp:\n",
    "        if \"CAN\" not in f:\n",
    "            continue\n",
    "        if \"2T\" in f:\n",
    "            if os.path.getsize(f) >= 60*1024:\n",
    "                csvlist.append(f)"
   ]
  },
  {
   "cell_type": "code",
   "execution_count": null,
   "metadata": {},
   "outputs": [],
   "source": [
    "csvlist"
   ]
  },
  {
   "cell_type": "code",
   "execution_count": null,
   "metadata": {},
   "outputs": [],
   "source": [
    "len(csvlist)"
   ]
  },
  {
   "cell_type": "code",
   "execution_count": null,
   "metadata": {},
   "outputs": [],
   "source": [
    "f[1]"
   ]
  },
  {
   "cell_type": "code",
   "execution_count": null,
   "metadata": {},
   "outputs": [],
   "source": [
    "r = strymread(csvfile=csvlist[0], dbcfile='../strym/strym/dbc/toyota_rav4_2020.dbc')\n",
    "speed = r.speed()\n",
    "speed"
   ]
  },
  {
   "cell_type": "code",
   "execution_count": null,
   "metadata": {},
   "outputs": [],
   "source": [
    "speed['Time'] = speed['Time'] - speed['Time'].iloc[0]\n",
    "speed"
   ]
  },
  {
   "cell_type": "code",
   "execution_count": null,
   "metadata": {},
   "outputs": [],
   "source": [
    "from scipy.interpolate import interp1d\n",
    "import plotly.io as pio\n",
    "\n",
    "import plotly.io as pio\n",
    "\n",
    "pio.renderers.default = 'browser'  # Forces Plotly to open in your browser\n",
    "\n",
    "sampling_time =  1.0/20.0 # 20 Hz\n",
    "t_new = np.arange(speed['Time'].iloc[0], speed['Time'].iloc[-1], sampling_time)\n",
    "f = interp1d(speed['Time'].values, speed['Message'].values,  kind='zero')\n",
    "v_new = f(t_new)\n",
    "\n",
    "import plotly.graph_objects as go\n",
    "# Create the plotly figure with interactive features\n",
    "fig = go.Figure()\n",
    "\n",
    "# Original data points (with markers and lines)\n",
    "fig.add_trace(go.Scatter(\n",
    "    x=speed['Time'], \n",
    "    y=speed['Message'],\n",
    "    mode='lines+markers',\n",
    "    marker=dict(size=8, color='blue'),\n",
    "    line=dict(color='blue', width=2),\n",
    "    name='Original Data'\n",
    "))\n",
    "\n",
    "# Interpolated data points (with markers, lines, and transparency)\n",
    "fig.add_trace(go.Scatter(\n",
    "    x=t_new, \n",
    "    y=v_new, \n",
    "    mode='lines+markers',\n",
    "    marker=dict(size=6, color='rgba(255,0,0,0.6)'),  # Red markers with transparency\n",
    "    line=dict(color='rgba(255,0,0,0.4)', width=2),   # Red lines with transparency\n",
    "    name='Interpolated Data'\n",
    "))\n",
    "\n",
    "# Update layout with title, labels, and interactive features\n",
    "fig.update_layout(\n",
    "    title=\"Interpolated Speed Data with Interactive Plotting\",\n",
    "    xaxis_title=\"Time (s)\",\n",
    "    yaxis_title=\"Speed\",\n",
    "    hovermode=\"x unified\"  # Enables unified hover for x-axis\n",
    ")\n",
    "\n",
    "# Show the interactive plot\n",
    "fig.show()"
   ]
  },
  {
   "cell_type": "code",
   "execution_count": null,
   "metadata": {},
   "outputs": [],
   "source": [
    "# Set the time window for plotting\n",
    "time_start = 800\n",
    "time_end = 1000\n",
    "\n",
    "# Filter the data for the selected time range\n",
    "mask = (speed['Time'] >= time_start) & (speed['Time'] <= time_end)\n",
    "filtered_time = speed['Time'][mask]\n",
    "filtered_message = speed['Message'][mask]\n",
    "\n",
    "# Interpolation with zero-order hold\n",
    "sampling_time = 1.0 / 200.0  # 200 Hz\n",
    "t_new = np.arange(filtered_time.iloc[0], filtered_time.iloc[-1], sampling_time)\n",
    "f = interp1d(filtered_time.values, filtered_message.values, kind='zero')\n",
    "v_new = f(t_new)\n",
    "\n",
    "# Create the plotly figure with interactive features\n",
    "fig = go.Figure()\n",
    "\n",
    "# Original data points (with markers and lines)\n",
    "fig.add_trace(go.Scatter(\n",
    "    x=filtered_time, \n",
    "    y=filtered_message,\n",
    "    mode='lines+markers',\n",
    "    marker=dict(size=8, color='blue'),\n",
    "    line=dict(color='blue', width=2),\n",
    "    name='Original Data'\n",
    "))\n",
    "\n",
    "# Interpolated data points (with markers, lines, and transparency)\n",
    "fig.add_trace(go.Scatter(\n",
    "    x=t_new, \n",
    "    y=v_new, \n",
    "    mode='lines+markers',\n",
    "    marker=dict(size=6, color='rgba(255,0,0,0.6)'),  # Red markers with transparency\n",
    "    line=dict(color='rgba(255,0,0,0.4)', width=2),   # Red lines with transparency\n",
    "    name='Interpolated Data'\n",
    "))\n",
    "\n",
    "# Update layout with title, labels, and interactive features\n",
    "fig.update_layout(\n",
    "    title=\"Filtered Speed Data (800s to 1000s) with Interactive Plotting\",\n",
    "    xaxis_title=\"Time (s)\",\n",
    "    yaxis_title=\"Speed\",\n",
    "    hovermode=\"x unified\"  # Enables unified hover for x-axis\n",
    ")\n",
    "\n",
    "# Show the interactive plot\n",
    "fig.show()"
   ]
  },
  {
   "cell_type": "code",
   "execution_count": null,
   "metadata": {},
   "outputs": [],
   "source": [
    "import ntpath\n",
    "import pickle\n",
    "\n",
    "def save_csv_data(f):\n",
    "\n",
    "    print(\"------------------\")\n",
    "    print(f)\n",
    "    print(\"------------------\")\n",
    "    r = strymread(csvfile=f, dbcfile='../strym/strym/dbc/toyota_rav4_2020.dbc')\n",
    "    if not r.success:\n",
    "        return\n",
    "\n",
    "    state_var = r.state_space(rate = 20, cont_method='zero') # zero for sample and hold\n",
    "    speed = r.speed()\n",
    "    distance_covered  = r.integrate(speed)\n",
    "    accelx = r.accelx()\n",
    "    accely = r.accely()\n",
    "    accelz = r.accelz()\n",
    "    yaw_rate = r.yaw_rate()\n",
    "    steer_rate = r.steer_rate()\n",
    "    steer_angle = r.steer_angle()\n",
    "    steer_fraction = r.steer_fraction()\n",
    "    wheel_speed_fl = r.wheel_speed_fl()\n",
    "    wheel_speed_fr = r.wheel_speed_fr()\n",
    "    wheel_speed_rl = r.wheel_speed_rl()\n",
    "    wheel_speed_rr = r.wheel_speed_rr()\n",
    "    lead_distance = r.lead_distance()\n",
    "    relative_vel = r.relative_vel()\n",
    "    acc_status = r.acc_state()\n",
    "\n",
    "    state_var.to_csv('StateData/'+ntpath.basename(r.csvfile)[0:-4]+'_20Hz'+'.csv')\n",
    "\n",
    "\n",
    "    # Save the variables in a dictionary\n",
    "    data = {\n",
    "        'distance_covered': distance_covered,\n",
    "        'accelx': accelx,\n",
    "        'accely': accely,\n",
    "        'accelz': accelz,\n",
    "        'yaw_rate': yaw_rate,\n",
    "        'steer_rate': steer_rate,\n",
    "        'steer_angle': steer_angle,\n",
    "        'steer_fraction': steer_fraction,\n",
    "        'wheel_speed_fl': wheel_speed_fl,\n",
    "        'wheel_speed_fr': wheel_speed_fr,\n",
    "        'wheel_speed_rl': wheel_speed_rl,\n",
    "        'wheel_speed_rr': wheel_speed_rr,\n",
    "        'lead_distance': lead_distance,\n",
    "        'relative_vel': relative_vel,\n",
    "        'acc_status': acc_status\n",
    "    }\n",
    "\n",
    "    # Write the data to a file\n",
    "    pickle_file_name = 'StateData/'+ntpath.basename(r.csvfile)[0:-4]+'_decoded'+'.pkl'\n",
    "    with open(pickle_file_name, 'wb') as f:\n",
    "        pickle.dump(data, f)"
   ]
  },
  {
   "cell_type": "code",
   "execution_count": null,
   "metadata": {},
   "outputs": [],
   "source": [
    "for f in csvlist:\n",
    "    save_csv_data(f)"
   ]
  },
  {
   "cell_type": "code",
   "execution_count": null,
   "metadata": {},
   "outputs": [],
   "source": []
  },
  {
   "cell_type": "code",
   "execution_count": null,
   "metadata": {},
   "outputs": [],
   "source": []
  }
 ],
 "metadata": {
  "kernelspec": {
   "display_name": "strym",
   "language": "python",
   "name": "python3"
  },
  "language_info": {
   "codemirror_mode": {
    "name": "ipython",
    "version": 3
   },
   "file_extension": ".py",
   "mimetype": "text/x-python",
   "name": "python",
   "nbconvert_exporter": "python",
   "pygments_lexer": "ipython3",
   "version": "3.9.18"
  }
 },
 "nbformat": 4,
 "nbformat_minor": 2
}
