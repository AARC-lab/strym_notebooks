{
 "cells": [
  {
   "cell_type": "markdown",
   "metadata": {},
   "source": [
    "# Delete empty files in the Cyverse Folder"
   ]
  },
  {
   "cell_type": "markdown",
   "metadata": {},
   "source": [
    "The purpose of this notebook is to delete the files in Cyverse Folder that is less than specified bytes.\n",
    "In this case, I am deleting files less than 100 bytes."
   ]
  },
  {
   "cell_type": "markdown",
   "metadata": {},
   "source": [
    "## <span style=\"color:red\">Caution: Be careful while entering the folder name where to look for file for deletion since it is one time operation and cannot be reverted</span>"
   ]
  },
  {
   "cell_type": "code",
   "execution_count": 1,
   "metadata": {},
   "outputs": [],
   "source": [
    "import os\n",
    "import ntpath\n",
    "import glob\n",
    "import gc\n",
    "import numpy as np\n",
    "from pathlib import Path\n",
    "import math"
   ]
  },
  {
   "cell_type": "markdown",
   "metadata": {},
   "source": [
    "## Set the folder path relative to this document or absolute path\n",
    "It can either be a list of folders or a single folder"
   ]
  },
  {
   "cell_type": "code",
   "execution_count": 13,
   "metadata": {},
   "outputs": [],
   "source": [
    "folders = '../PandaData/'"
   ]
  },
  {
   "cell_type": "markdown",
   "metadata": {},
   "source": [
    "## Check if the folder is valid path"
   ]
  },
  {
   "cell_type": "code",
   "execution_count": 14,
   "metadata": {},
   "outputs": [],
   "source": [
    "if isinstance(folders, str):\n",
    "    folders = [folders]\n",
    "    isDIR = []\n",
    "    valid_folders = []\n",
    "    for f in folders:\n",
    "        isDirectory = os.path.isdir(f)\n",
    "        if not isDirectory:\n",
    "            LOGGER.warn(\"{} is not a directory, we will skip it.\".format(f))\n",
    "        else:\n",
    "            valid_folders.append(f)\n",
    "        isDIR.append(isDirectory)\n",
    "\n",
    "\n",
    "    if  ~np.any(isDIR):\n",
    "        del isDIR\n",
    "        gc.collect()\n",
    "        LOGGER.error(\"None of the directory in the provided list of folders is valid.\")"
   ]
  },
  {
   "cell_type": "code",
   "execution_count": 9,
   "metadata": {},
   "outputs": [
    {
     "data": {
      "text/plain": [
       "['../PandaData/']"
      ]
     },
     "execution_count": 9,
     "metadata": {},
     "output_type": "execute_result"
    }
   ],
   "source": [
    "valid_folders"
   ]
  },
  {
   "cell_type": "markdown",
   "metadata": {},
   "source": [
    "## Now delete all the files less than 100 bytes"
   ]
  },
  {
   "cell_type": "code",
   "execution_count": 15,
   "metadata": {},
   "outputs": [],
   "source": [
    "size_threshold = 100"
   ]
  },
  {
   "cell_type": "code",
   "execution_count": 17,
   "metadata": {},
   "outputs": [],
   "source": [
    "for f in valid_folders:\n",
    "    for path in Path(f).rglob('*CAN*.csv'):\n",
    "        if os.path.getsize(str(path)) < size_threshold:\n",
    "            print(\"The size of the file is {} bytes.\".format(os.path.getsize(str(path))))\n",
    "            print(\"Nothing significant to read in {}. Deleting\".format(str(path)))\n",
    "            os.remove(str(path))"
   ]
  }
 ],
 "metadata": {
  "kernelspec": {
   "display_name": "Python 3.7.5 64-bit ('dbn': conda)",
   "language": "python",
   "name": "python37564bitdbnconda0ff40c201a374a3db2aacabb837785f4"
  },
  "language_info": {
   "codemirror_mode": {
    "name": "ipython",
    "version": 3
   },
   "file_extension": ".py",
   "mimetype": "text/x-python",
   "name": "python",
   "nbconvert_exporter": "python",
   "pygments_lexer": "ipython3",
   "version": "3.7.5"
  }
 },
 "nbformat": 4,
 "nbformat_minor": 2
}
