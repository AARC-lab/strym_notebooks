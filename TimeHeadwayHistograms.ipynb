{
 "cells": [
  {
   "cell_type": "markdown",
   "id": "7829d5bb-8dc7-4fdf-9b6d-c97ba0f9d273",
   "metadata": {},
   "source": [
    "# Time Headway Calculator\n",
    "\n",
    "The goal of this notebook is to establish time headways for individual following events, as a histogram based on the speed of the following vehicle.\n",
    "\n",
    "Authors: Sally Kim, Jonathan Sprinkle"
   ]
  },
  {
   "cell_type": "code",
   "execution_count": 10,
   "id": "28fceb0a-4cbd-4149-b016-8104d62b42da",
   "metadata": {},
   "outputs": [],
   "source": [
    "import signal\n",
    "import pandas as pd\n",
    "import sys, math, time, datetime\n",
    "import matplotlib.pyplot as plt\n",
    "import matplotlib.animation as animation\n",
    "from matplotlib import style\n",
    "import numpy as np\n",
    "from matplotlib.pyplot import cm\n",
    "import pickle\n",
    "from strym import strymread\n",
    "import strym\n",
    "import copy"
   ]
  },
  {
   "cell_type": "code",
   "execution_count": 18,
   "id": "73fc814b-c2ed-4f75-a175-b518818c4c42",
   "metadata": {},
   "outputs": [
    {
     "name": "stdout",
     "output_type": "stream",
     "text": [
      "Total number of datafiles in /Users/sprinkle/work/data/sally/2021_08_09/ is 3.\n"
     ]
    }
   ],
   "source": [
    "# change this to your data folder\n",
    "# datafolder='/Users/sallykim/Desktop/2021_08_09/'\n",
    "datafolder='/Users/sprinkle/work/data/sally/2021_08_09/'\n",
    "\n",
    "import glob\n",
    "csvlist = glob.glob(datafolder+\"*2T3*CAN*.csv\")\n",
    "\n",
    "num_of_files = len(csvlist)\n",
    "print(\"Total number of datafiles in {} is {}.\".format(datafolder, num_of_files))\n",
    "# dbcfile = '../examples/newToyotacode.dbc'"
   ]
  },
  {
   "cell_type": "code",
   "execution_count": 19,
   "id": "aaf73783-a8aa-4a6c-a61e-764907932571",
   "metadata": {},
   "outputs": [],
   "source": [
    "# choose the first file, and then plot the speed, as well as the lead vehicle distance\n",
    "# Look in Minitest 1 or in \n",
    "\n",
    "#dbcfile_17 = '/Users/sallykim/opt/miniconda3/lib/python3.9/site-packages/strym/dbc/toyota_rav4_hybrid.dbc'\n",
    "datafile_17 = datafolder+'2021-08-09-17-42-45_2T3Y1RFV8KC014025_CAN_Messages.csv'\n",
    "#data_17 = pd.read_csv(datafile_17)\n"
   ]
  },
  {
   "cell_type": "code",
   "execution_count": 20,
   "id": "0ed4432a-f0aa-44f3-9f6b-7067ddba9d9a",
   "metadata": {},
   "outputs": [],
   "source": [
    "#db_17 = str.initializeDBC_Cantools(dbcfile_17)\n",
    "#speed_17 = str.convertData(\"SPEED\", \"SPEED\", data_17, db_17)\n",
    "#plt.plot(speed_17.Time, speed_17.Message)\n",
    "#plt.title(\"08/09/2021 drive, file 1\")\n",
    "#plt.xlabel(\"time\")\n",
    "#plt.ylabel(\"speed\")"
   ]
  },
  {
   "cell_type": "code",
   "execution_count": null,
   "id": "05191d68-f921-4018-8168-bf1c5181c511",
   "metadata": {},
   "outputs": [
    {
     "name": "stdout",
     "output_type": "stream",
     "text": [
      "[2022_07_18_12_51_47] (root) INFO: Vehicle model infered is toyota-rav4-2019\n"
     ]
    }
   ],
   "source": [
    "r0 = strymread(datafile_17)\n",
    "speed = r0.speed()\n",
    "try:\n",
    "    speed_17 = r0.get_ts('SPEED','SPEED')\n",
    "    long_dist_17 = r0.get_ts('LEAD_INFO','LEAD_LONG_DIST')\n",
    "    long_dist_17_2 = r0.lead_distance()\n",
    "except:\n",
    "    print('Oops, a specific error message Sally writes')"
   ]
  },
  {
   "cell_type": "code",
   "execution_count": null,
   "id": "b45e8d95-e77a-488a-98be-723e3786603c",
   "metadata": {},
   "outputs": [],
   "source": [
    "# choose the first file, and then plot the speed, as well as the lead vehicle distance\n",
    "# Look in Minitest 1 or in \n",
    "fig, ax = strymread.create_fig(2)\n",
    "ax[0].scatter(x=speed_17['Time'] - speed_17['Time'][0],y=speed_17['Message'])\n",
    "ax[0].set(xlabel='Time (s) from start of drive',ylabel='Speed (km/hr)',title='Speed vs. Time')\n",
    "ax[1].scatter(x=long_dist_17_2['Time'] - long_dist_17_2['Time'][0],y=long_dist_17_2F['Message'])\n",
    "ax[1].set(xlabel='Time (s) from start of drive',ylabel='Lead vehicle longitudinal distance (m)',title='Lead Distance vs. Time')"
   ]
  },
  {
   "cell_type": "code",
   "execution_count": null,
   "id": "15c66c5c-45e5-4aed-9896-47021be3e519",
   "metadata": {},
   "outputs": [],
   "source": [
    "# find all times where the lead vehicle distance changes by more than 5\n"
   ]
  },
  {
   "cell_type": "code",
   "execution_count": null,
   "id": "d2328cf4-7968-42f3-b0b4-35e7d1eaf153",
   "metadata": {},
   "outputs": [],
   "source": [
    "# remove all times where the lead vehicle distance is > 200"
   ]
  }
 ],
 "metadata": {
  "kernelspec": {
   "display_name": "Python 3",
   "language": "python",
   "name": "python3"
  },
  "language_info": {
   "codemirror_mode": {
    "name": "ipython",
    "version": 3
   },
   "file_extension": ".py",
   "mimetype": "text/x-python",
   "name": "python",
   "nbconvert_exporter": "python",
   "pygments_lexer": "ipython3",
   "version": "3.8.8"
  }
 },
 "nbformat": 4,
 "nbformat_minor": 5
}
